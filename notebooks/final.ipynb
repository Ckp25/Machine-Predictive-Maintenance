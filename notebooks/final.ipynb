{
 "cells": [
  {
   "cell_type": "code",
   "execution_count": 1,
   "id": "f643933d",
   "metadata": {},
   "outputs": [],
   "source": [
    "import pandas as pd"
   ]
  },
  {
   "cell_type": "code",
   "execution_count": 2,
   "id": "5b1bddc0",
   "metadata": {},
   "outputs": [],
   "source": [
    "df = pd.read_csv(r'D:\\predictive maintenence\\data\\ai4i2020_final.csv')\n"
   ]
  },
  {
   "cell_type": "code",
   "execution_count": 3,
   "id": "de806855",
   "metadata": {},
   "outputs": [
    {
     "name": "stdout",
     "output_type": "stream",
     "text": [
      "<class 'pandas.core.frame.DataFrame'>\n",
      "RangeIndex: 10000 entries, 0 to 9999\n",
      "Data columns (total 16 columns):\n",
      " #   Column               Non-Null Count  Dtype  \n",
      "---  ------               --------------  -----  \n",
      " 0   type                 10000 non-null  int64  \n",
      " 1   process_temp         10000 non-null  float64\n",
      " 2   rot_speed            10000 non-null  int64  \n",
      " 3   torque               10000 non-null  float64\n",
      " 4   tool_wear            10000 non-null  int64  \n",
      " 5   machine_failure      10000 non-null  int64  \n",
      " 6   twf                  10000 non-null  int64  \n",
      " 7   hdf                  10000 non-null  int64  \n",
      " 8   pwf                  10000 non-null  int64  \n",
      " 9   osf                  10000 non-null  int64  \n",
      " 10  rnf                  10000 non-null  int64  \n",
      " 11  temp_diff            10000 non-null  float64\n",
      " 12  heating_risk_scaled  10000 non-null  float64\n",
      " 13  power                10000 non-null  float64\n",
      " 14  wear_z               10000 non-null  float64\n",
      " 15  mechanical_work      10000 non-null  float64\n",
      "dtypes: float64(7), int64(9)\n",
      "memory usage: 1.2 MB\n"
     ]
    }
   ],
   "source": [
    "df.info()"
   ]
  },
  {
   "cell_type": "code",
   "execution_count": 4,
   "id": "98dbe901",
   "metadata": {},
   "outputs": [],
   "source": [
    "features = [\n",
    "  'type', 'process_temp', 'rot_speed', 'torque',\n",
    "  'tool_wear', 'temp_diff', 'heating_risk_scaled',\n",
    "  'power', 'wear_z', 'mechanical_work'\n",
    "]\n",
    "X = df[features]\n",
    "y = df['machine_failure']\n"
   ]
  },
  {
   "cell_type": "code",
   "execution_count": 5,
   "id": "23c50110",
   "metadata": {},
   "outputs": [
    {
     "data": {
      "text/plain": [
       "np.float64(0.0339)"
      ]
     },
     "execution_count": 5,
     "metadata": {},
     "output_type": "execute_result"
    }
   ],
   "source": [
    "df['machine_failure'].mean()"
   ]
  },
  {
   "cell_type": "code",
   "execution_count": 6,
   "id": "f1bd3ac3",
   "metadata": {},
   "outputs": [
    {
     "name": "stdout",
     "output_type": "stream",
     "text": [
      "Best recall: 0.456\n",
      "→ params: {'contamination': 0.05, 'max_features': 0.5, 'max_samples': 0.75, 'n_estimators': 500}\n"
     ]
    }
   ],
   "source": [
    "from sklearn.model_selection import train_test_split, ParameterGrid\n",
    "from sklearn.ensemble import IsolationForest\n",
    "from sklearn.metrics import recall_score, precision_score\n",
    "\n",
    "\n",
    "\n",
    "X_train, X_test, y_train, y_test = train_test_split(\n",
    "    X, y, test_size=0.2, stratify=y, random_state=42\n",
    ")\n",
    "\n",
    "\n",
    "param_grid = {\n",
    "    'n_estimators':    [100, 250, 500],\n",
    "    'max_samples':     [0.5, 0.75, 1.0],\n",
    "    'max_features':    [0.5, 0.75, 1.0],\n",
    "    'contamination':   [0.02, 0.0339, 0.05],  # try a bit below and above your 3.4% base rate\n",
    "}\n",
    "\n",
    "\n",
    "best = {'params': None, 'recall': 0}\n",
    "for params in ParameterGrid(param_grid):\n",
    "    iso = IsolationForest(random_state=42, **params)\n",
    "    iso.fit(X_train)  # unsupervised, ignores y_train\n",
    "    y_pred = (iso.predict(X_test) == -1).astype(int)\n",
    "    rec = recall_score(y_test, y_pred)\n",
    "    if rec > best['recall']:\n",
    "        best = {'params': params, 'recall': rec}\n",
    "\n",
    "\n",
    "print(\"Best recall: {:.3f}\".format(best['recall']))\n",
    "print(\"→ params:\", best['params'])\n"
   ]
  },
  {
   "cell_type": "code",
   "execution_count": 7,
   "id": "548fc257",
   "metadata": {},
   "outputs": [
    {
     "name": "stdout",
     "output_type": "stream",
     "text": [
      "              precision    recall  f1-score   support\n",
      "\n",
      "           0     0.9804    0.9591    0.9696      1932\n",
      "           1     0.2818    0.4559    0.3483        68\n",
      "\n",
      "    accuracy                         0.9420      2000\n",
      "   macro avg     0.6311    0.7075    0.6590      2000\n",
      "weighted avg     0.9567    0.9420    0.9485      2000\n",
      "\n"
     ]
    }
   ],
   "source": [
    "# Re-fit with best params\n",
    "best_params = {\n",
    "    'contamination': 0.05,\n",
    "    'max_features': 0.5,\n",
    "    'max_samples': 0.75,\n",
    "    'n_estimators': 500,\n",
    "    'random_state': 42\n",
    "}\n",
    "iso = IsolationForest(**best_params)\n",
    "iso.fit(X_train)\n",
    "\n",
    "# Hard predictions\n",
    "y_pred = (iso.predict(X_test) == -1).astype(int)\n",
    "\n",
    "from sklearn.metrics import classification_report, precision_score, recall_score, f1_score\n",
    "print(classification_report(y_test, y_pred, digits=4))\n"
   ]
  },
  {
   "cell_type": "code",
   "execution_count": 8,
   "id": "d6659bc0",
   "metadata": {},
   "outputs": [
    {
     "name": "stdout",
     "output_type": "stream",
     "text": [
      "Best F1 0.380 at threshold 0.0212\n"
     ]
    }
   ],
   "source": [
    "import numpy as np\n",
    "from sklearn.metrics import f1_score\n",
    "\n",
    "scores = -iso.decision_function(X_test)\n",
    "best_f1, best_thr = 0, 0\n",
    "for thr in np.linspace(scores.min(), scores.max(), 200):\n",
    "    y_thr = (scores >= thr).astype(int)\n",
    "    f1 = f1_score(y_test, y_thr)\n",
    "    if f1 > best_f1:\n",
    "        best_f1, best_thr = f1, thr\n",
    "\n",
    "print(f\"Best F1 {best_f1:.3f} at threshold {best_thr:.4f}\")\n"
   ]
  },
  {
   "cell_type": "code",
   "execution_count": 9,
   "id": "83ee1935",
   "metadata": {},
   "outputs": [
    {
     "name": "stdout",
     "output_type": "stream",
     "text": [
      "[LightGBM] [Info] Number of positive: 271, number of negative: 7729\n",
      "[LightGBM] [Info] Auto-choosing col-wise multi-threading, the overhead of testing was 0.000372 seconds.\n",
      "You can set `force_col_wise=true` to remove the overhead.\n",
      "[LightGBM] [Info] Total Bins 2191\n",
      "[LightGBM] [Info] Number of data points in the train set: 8000, number of used features: 11\n",
      "[LightGBM] [Info] [binary:BoostFromScore]: pavg=0.500000 -> initscore=-0.000000\n",
      "[LightGBM] [Info] Start training from score -0.000000\n",
      "              precision    recall  f1-score   support\n",
      "\n",
      "           0     0.9938    0.9938    0.9938      1932\n",
      "           1     0.8235    0.8235    0.8235        68\n",
      "\n",
      "    accuracy                         0.9880      2000\n",
      "   macro avg     0.9087    0.9087    0.9087      2000\n",
      "weighted avg     0.9880    0.9880    0.9880      2000\n",
      "\n"
     ]
    }
   ],
   "source": [
    "import lightgbm as lgb\n",
    "from lightgbm import LGBMClassifier\n",
    "from sklearn.model_selection import train_test_split\n",
    "# 1) Compute IF score on the entire dataset\n",
    "df['if_score'] = -iso.decision_function(df[features])\n",
    "\n",
    "# 2) Rebuild X/y with the extra column\n",
    "X2 = df[features + ['if_score']]\n",
    "y2 = df['machine_failure']\n",
    "\n",
    "# 3) Split & retrain\n",
    "X_tr, X_te, y_tr, y_te = train_test_split(\n",
    "    X2, y2, test_size=0.2, stratify=y2, random_state=42\n",
    ")\n",
    "clf = LGBMClassifier(class_weight='balanced', random_state=42)\n",
    "clf.fit(X_tr, y_tr)\n",
    "\n",
    "# 4) Evaluate\n",
    "print(classification_report(y_te, clf.predict(X_te), digits=4))\n"
   ]
  },
  {
   "cell_type": "code",
   "execution_count": 10,
   "id": "59b806cd",
   "metadata": {},
   "outputs": [
    {
     "name": "stdout",
     "output_type": "stream",
     "text": [
      "                feature  importance\n",
      "2             rot_speed         361\n",
      "7                 power         351\n",
      "10             if_score         343\n",
      "9       mechanical_work         334\n",
      "4             tool_wear         307\n",
      "3                torque         291\n",
      "5             temp_diff         288\n",
      "6   heating_risk_scaled         280\n",
      "1          process_temp         262\n",
      "8                wear_z         112\n",
      "0                  type          71\n"
     ]
    },
    {
     "data": {
      "image/png": "[encoded data removed]",
      "text/plain": [
       "<Figure size 600x400 with 1 Axes>"
      ]
     },
     "metadata": {},
     "output_type": "display_data"
    }
   ],
   "source": [
    "import pandas as pd\n",
    "import matplotlib.pyplot as plt\n",
    "\n",
    "# Assuming you’ve just trained:\n",
    "# clf.fit(X_tr, y_tr)\n",
    "\n",
    "# 1) Grab importances and feature names\n",
    "imp_vals = clf.feature_importances_\n",
    "imp_names = X_tr.columns\n",
    "\n",
    "# 2) Build a DataFrame and sort\n",
    "imp_df = pd.DataFrame({\n",
    "    'feature': imp_names,\n",
    "    'importance': imp_vals\n",
    "}).sort_values('importance', ascending=False)\n",
    "\n",
    "print(imp_df)\n",
    "\n",
    "# 3) (Optional) Quick bar‐plot\n",
    "plt.figure(figsize=(6,4))\n",
    "plt.barh(imp_df['feature'], imp_df['importance'])\n",
    "plt.gca().invert_yaxis()\n",
    "plt.xlabel(\"Feature importance (split count)\")\n",
    "plt.title(\"LightGBM Feature Importances\")\n",
    "plt.tight_layout()\n",
    "plt.show()\n"
   ]
  },
  {
   "cell_type": "code",
   "execution_count": 11,
   "id": "f27da555",
   "metadata": {},
   "outputs": [],
   "source": [
    "import numpy as np\n",
    "from sklearn.ensemble import IsolationForest\n",
    "from sklearn.preprocessing import RobustScaler\n",
    "\n",
    "# Prepare storage\n",
    "iso_scores = np.zeros(len(df))\n",
    "\n",
    "# Loop over tool types\n",
    "for t in df['type'].unique():\n",
    "    idx = df['type'] == t\n",
    "    X_t = df.loc[idx, features]              # features is your list of columns\n",
    "    scaler = RobustScaler().fit(X_t)         # scale per-type\n",
    "    X_t_s = scaler.transform(X_t)\n",
    "\n",
    "    iso = IsolationForest(\n",
    "        contamination=0.05,\n",
    "        n_estimators=500,\n",
    "        max_features=0.5,\n",
    "        random_state=42\n",
    "    ).fit(X_t_s)\n",
    "\n",
    "    # Higher score = more “normal,” so we invert\n",
    "    scores_t = -iso.decision_function(X_t_s)\n",
    "    iso_scores[idx] = scores_t\n",
    "\n",
    "# Add back to df\n",
    "df['if_score_grouped'] = iso_scores\n"
   ]
  },
  {
   "cell_type": "code",
   "execution_count": 12,
   "id": "e9e45202",
   "metadata": {},
   "outputs": [],
   "source": [
    "# drop if_score\n",
    "df.drop(columns=['if_score'], inplace=True)"
   ]
  },
  {
   "cell_type": "code",
   "execution_count": 13,
   "id": "3243c5aa",
   "metadata": {},
   "outputs": [
    {
     "name": "stdout",
     "output_type": "stream",
     "text": [
      "[LightGBM] [Info] Number of positive: 271, number of negative: 7729\n",
      "[LightGBM] [Info] Auto-choosing col-wise multi-threading, the overhead of testing was 0.000475 seconds.\n",
      "You can set `force_col_wise=true` to remove the overhead.\n",
      "[LightGBM] [Info] Total Bins 2191\n",
      "[LightGBM] [Info] Number of data points in the train set: 8000, number of used features: 11\n",
      "[LightGBM] [Info] [binary:BoostFromScore]: pavg=0.500000 -> initscore=-0.000000\n",
      "[LightGBM] [Info] Start training from score -0.000000\n",
      "              precision    recall  f1-score   support\n",
      "\n",
      "           0     0.9938    0.9953    0.9946      1932\n",
      "           1     0.8615    0.8235    0.8421        68\n",
      "\n",
      "    accuracy                         0.9895      2000\n",
      "   macro avg     0.9277    0.9094    0.9183      2000\n",
      "weighted avg     0.9893    0.9895    0.9894      2000\n",
      "\n"
     ]
    },
    {
     "name": "stderr",
     "output_type": "stream",
     "text": [
      "d:\\predictive maintenence\\venv\\Lib\\site-packages\\sklearn\\utils\\validation.py:2742: UserWarning: X has feature names, but IsolationForest was fitted without feature names\n",
      "  warnings.warn(\n"
     ]
    }
   ],
   "source": [
    "import lightgbm as lgb\n",
    "from lightgbm import LGBMClassifier\n",
    "from sklearn.model_selection import train_test_split\n",
    "# 1) Compute IF score on the entire dataset\n",
    "df['if_score'] = -iso.decision_function(df[features])\n",
    "\n",
    "# 2) Rebuild X/y with the extra column\n",
    "X2 = df[features + ['if_score_grouped']]\n",
    "y2 = df['machine_failure']\n",
    "\n",
    "# 3) Split & retrain\n",
    "X_tr, X_te, y_tr, y_te = train_test_split(\n",
    "    X2, y2, test_size=0.2, stratify=y2, random_state=42\n",
    ")\n",
    "clf = LGBMClassifier(class_weight='balanced', random_state=42)\n",
    "clf.fit(X_tr, y_tr)\n",
    "\n",
    "# 4) Evaluate\n",
    "print(classification_report(y_te, clf.predict(X_te), digits=4))\n"
   ]
  },
  {
   "cell_type": "code",
   "execution_count": 15,
   "id": "06e5fb4c",
   "metadata": {},
   "outputs": [
    {
     "name": "stdout",
     "output_type": "stream",
     "text": [
      "[LightGBM] [Info] Number of positive: 271, number of negative: 7729\n",
      "[LightGBM] [Info] Auto-choosing col-wise multi-threading, the overhead of testing was 0.000324 seconds.\n",
      "You can set `force_col_wise=true` to remove the overhead.\n",
      "[LightGBM] [Info] Total Bins 2191\n",
      "[LightGBM] [Info] Number of data points in the train set: 8000, number of used features: 11\n",
      "[LightGBM] [Info] [binary:BoostFromScore]: pavg=0.500000 -> initscore=-0.000000\n",
      "[LightGBM] [Info] Start training from score -0.000000\n",
      "              precision    recall  f1-score   support\n",
      "\n",
      "           0     0.9938    0.9953    0.9946      1932\n",
      "           1     0.8615    0.8235    0.8421        68\n",
      "\n",
      "    accuracy                         0.9895      2000\n",
      "   macro avg     0.9277    0.9094    0.9183      2000\n",
      "weighted avg     0.9893    0.9895    0.9894      2000\n",
      "\n"
     ]
    }
   ],
   "source": [
    "import lightgbm as lgb\n",
    "from lightgbm import LGBMClassifier\n",
    "from sklearn.model_selection import train_test_split\n",
    "# 1) Compute IF score on the entire dataset\n",
    "\n",
    "\n",
    "# 2) Rebuild X/y with the extra column\n",
    "X3 = df[features]\n",
    "y3 = df['machine_failure']\n",
    "\n",
    "# 3) Split & retrain\n",
    "X_tr, X_te, y_tr, y_te = train_test_split(\n",
    "    X2, y2, test_size=0.2, stratify=y2, random_state=42\n",
    ")\n",
    "clf = LGBMClassifier(class_weight='balanced', random_state=42)\n",
    "clf.fit(X_tr, y_tr)\n",
    "\n",
    "# 4) Evaluate\n",
    "print(classification_report(y_te, clf.predict(X_te), digits=4))"
   ]
  },
  {
   "cell_type": "code",
   "execution_count": 16,
   "id": "c70ab6bc",
   "metadata": {},
   "outputs": [
    {
     "name": "stdout",
     "output_type": "stream",
     "text": [
      "              precision    recall  f1-score   support\n",
      "\n",
      "           0     0.9928    0.9979    0.9954      1932\n",
      "           1     0.9310    0.7941    0.8571        68\n",
      "\n",
      "    accuracy                         0.9910      2000\n",
      "   macro avg     0.9619    0.8960    0.9262      2000\n",
      "weighted avg     0.9907    0.9910    0.9907      2000\n",
      "\n"
     ]
    }
   ],
   "source": [
    "from catboost import CatBoostClassifier\n",
    "from sklearn.model_selection import train_test_split\n",
    "from sklearn.metrics import classification_report\n",
    "\n",
    "X = df[features]               # all floats/ints\n",
    "y = df['machine_failure']\n",
    "\n",
    "X_tr, X_te, y_tr, y_te = train_test_split(\n",
    "    X, y, test_size=0.2, stratify=y, random_state=42\n",
    ")\n",
    "\n",
    "cb = CatBoostClassifier(\n",
    "    iterations=500,\n",
    "    learning_rate=0.05,\n",
    "    depth=6,\n",
    "    # no need to pass cat_features if everything’s numeric\n",
    "    random_seed=42,\n",
    "    verbose=False\n",
    ")\n",
    "cb.fit(X_tr, y_tr)\n",
    "print(classification_report(y_te, cb.predict(X_te), digits=4))\n"
   ]
  },
  {
   "cell_type": "code",
   "execution_count": 17,
   "id": "b6cb108b",
   "metadata": {},
   "outputs": [
    {
     "name": "stderr",
     "output_type": "stream",
     "text": [
      "d:\\predictive maintenence\\venv\\Lib\\site-packages\\xgboost\\training.py:183: UserWarning: [17:47:56] WARNING: C:\\actions-runner\\_work\\xgboost\\xgboost\\src\\learner.cc:738: \n",
      "Parameters: { \"use_label_encoder\" } are not used.\n",
      "\n",
      "  bst.update(dtrain, iteration=i, fobj=obj)\n"
     ]
    },
    {
     "name": "stdout",
     "output_type": "stream",
     "text": [
      "Classification Report (0.5 thresh):\n",
      "              precision    recall  f1-score   support\n",
      "\n",
      "           0     0.9938    0.9933    0.9935      1932\n",
      "           1     0.8116    0.8235    0.8175        68\n",
      "\n",
      "    accuracy                         0.9875      2000\n",
      "   macro avg     0.9027    0.9084    0.9055      2000\n",
      "weighted avg     0.9876    0.9875    0.9875      2000\n",
      "\n",
      "ROC AUC: 0.9775986481549142\n",
      "\n",
      "Best F1 0.864 at threshold 0.8975\n",
      "\n",
      "Classification Report (tuned thresh):\n",
      "              precision    recall  f1-score   support\n",
      "\n",
      "           0     0.9928    0.9984    0.9956      1932\n",
      "           1     0.9474    0.7941    0.8640        68\n",
      "\n",
      "    accuracy                         0.9915      2000\n",
      "   macro avg     0.9701    0.8963    0.9298      2000\n",
      "weighted avg     0.9913    0.9915    0.9911      2000\n",
      "\n"
     ]
    }
   ],
   "source": [
    "from xgboost import XGBClassifier\n",
    "from sklearn.model_selection import train_test_split\n",
    "from sklearn.metrics import classification_report, roc_auc_score, precision_recall_curve\n",
    "\n",
    "# 1) Prepare data\n",
    "features = [\n",
    "    'type','process_temp','rot_speed','torque',\n",
    "    'tool_wear','temp_diff','heating_risk_scaled',\n",
    "    'power','wear_z','mechanical_work'\n",
    "]\n",
    "X = df[features]\n",
    "y = df['machine_failure']\n",
    "\n",
    "# 2) Train/Test Split\n",
    "X_tr, X_te, y_tr, y_te = train_test_split(\n",
    "    X, y,\n",
    "    test_size=0.2,\n",
    "    stratify=y,\n",
    "    random_state=42\n",
    ")\n",
    "\n",
    "# 3) Compute imbalance weight\n",
    "scale_pos = (1 - y_tr.mean()) / y_tr.mean()  # ~28.5\n",
    "\n",
    "# 4) Fit XGBClassifier\n",
    "xgb = XGBClassifier(\n",
    "    use_label_encoder=False,\n",
    "    eval_metric='logloss',\n",
    "    scale_pos_weight=scale_pos,\n",
    "    n_estimators=200,\n",
    "    learning_rate=0.05,\n",
    "    max_depth=6,\n",
    "    random_state=42\n",
    ")\n",
    "xgb.fit(X_tr, y_tr)\n",
    "\n",
    "# 5) Evaluate with default 0.5 threshold\n",
    "preds = xgb.predict(X_te)\n",
    "probs = xgb.predict_proba(X_te)[:,1]\n",
    "\n",
    "print(\"Classification Report (0.5 thresh):\")\n",
    "print(classification_report(y_te, preds, digits=4))\n",
    "print(\"ROC AUC:\", roc_auc_score(y_te, probs))\n",
    "\n",
    "# 6) (Optional) Threshold tuning for best F1\n",
    "prec, rec, thr = precision_recall_curve(y_te, probs)\n",
    "f1_scores = 2 * (prec * rec) / (prec + rec + 1e-12)\n",
    "best_idx = f1_scores.argmax()\n",
    "best_thr = thr[best_idx]\n",
    "print(f\"\\nBest F1 {f1_scores[best_idx]:.3f} at threshold {best_thr:.4f}\")\n",
    "\n",
    "# 7) Evaluate at tuned threshold\n",
    "tuned_preds = (probs >= best_thr).astype(int)\n",
    "print(\"\\nClassification Report (tuned thresh):\")\n",
    "print(classification_report(y_te, tuned_preds, digits=4))\n"
   ]
  }
 ],
 "metadata": {
  "kernelspec": {
   "display_name": "venv",
   "language": "python",
   "name": "python3"
  },
  "language_info": {
   "codemirror_mode": {
    "name": "ipython",
    "version": 3
   },
   "file_extension": ".py",
   "mimetype": "text/x-python",
   "name": "python",
   "nbconvert_exporter": "python",
   "pygments_lexer": "ipython3",
   "version": "3.11.4"
  }
 },
 "nbformat": 4,
 "nbformat_minor": 5
}
